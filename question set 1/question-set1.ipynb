{
 "metadata": {
  "language_info": {
   "codemirror_mode": {
    "name": "ipython",
    "version": 3
   },
   "file_extension": ".py",
   "mimetype": "text/x-python",
   "name": "python",
   "nbconvert_exporter": "python",
   "pygments_lexer": "ipython3",
   "version": 3
  },
  "orig_nbformat": 2
 },
 "nbformat": 4,
 "nbformat_minor": 2,
 "cells": [
  {
   "cell_type": "code",
   "execution_count": null,
   "metadata": {},
   "outputs": [],
   "source": [
    "# 860. Lemonade Change\n",
    "def lemonadeChange(bills):\n",
    "    f=[]\n",
    "    t=[]\n",
    "    tw[]\n",
    "    for m in bills:\n",
    "        if m>5:\n",
    "            if m==10:\n",
    "                if (5 not in f):return False\n",
    "                f.pop()\n",
    "                t.append(10)\n",
    "            elif m==20:\n",
    "                if (5 not in f):return False\n",
    "                elif (10 not in t):\n",
    "                    if sum(f) < 15:return False\n",
    "                    f=f[3:]\n",
    "                else:\n",
    "                    f.pop()\n",
    "                    t.pop()\n",
    "                tw.append(20)\n",
    "        else:f.append(5)\n",
    "    return True\n",
    "\n",
    "bills = [5,5,10,20,5,5,5,5,5,5,5,5,5,10,5,5,20,5,20,5]\n",
    "lemonadeChange(bills)"
   ]
  }
 ]
}