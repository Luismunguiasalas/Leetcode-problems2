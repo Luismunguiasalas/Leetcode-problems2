{
 "metadata": {
  "language_info": {
   "codemirror_mode": {
    "name": "ipython",
    "version": 3
   },
   "file_extension": ".py",
   "mimetype": "text/x-python",
   "name": "python",
   "nbconvert_exporter": "python",
   "pygments_lexer": "ipython3",
   "version": "3.8.5-final"
  },
  "orig_nbformat": 2,
  "kernelspec": {
   "name": "python3",
   "display_name": "Python 3.8.5 64-bit ('base': conda)",
   "metadata": {
    "interpreter": {
     "hash": "298e7f1195cd23b17b2fdfab729c243b5ef1c973771016dbf6662dc9baf69dd6"
    }
   }
  }
 },
 "nbformat": 4,
 "nbformat_minor": 2,
 "cells": [
  {
   "cell_type": "code",
   "execution_count": null,
   "metadata": {},
   "outputs": [],
   "source": [
    "# 860. Lemonade Change\n",
    "def lemonadeChange(bills):\n",
    "    f=[]\n",
    "    t=[]\n",
    "    tw=[]\n",
    "    for m in bills:\n",
    "        if m>5:\n",
    "            if m==10:\n",
    "                if (5 not in f):return False\n",
    "                f.pop()\n",
    "                t.append(10)\n",
    "            elif m==20:\n",
    "                if (5 not in f):return False\n",
    "                elif (10 not in t):\n",
    "                    if sum(f) < 15:return False\n",
    "                    f=f[3:]\n",
    "                else:\n",
    "                    f.pop()\n",
    "                    t.pop()\n",
    "                tw.append(20)\n",
    "        else:f.append(5)\n",
    "    return True\n",
    "\n",
    "class Solution:\n",
    "    def lemonadeChange(self, bills: List[int]) -> bool:\n",
    "        f,t,tw=[],[],[]\n",
    "        for m in bills:\n",
    "            if m>5:\n",
    "                if 5 not in f:return False\n",
    "                if m==10:\n",
    "                    f.pop()\n",
    "                    t.append(10)\n",
    "                elif m==20:\n",
    "                    if 10 not in t:\n",
    "                        if len(f)<4:return False\n",
    "                        f=f[3:]\n",
    "                        tw.append(20)\n",
    "                    else:\n",
    "                        f.pop()\n",
    "                        t.pop()\n",
    "                        tw.append(20)\n",
    "            else:f.append(5)\n",
    "        return True\n",
    "\n",
    "bills = [5,5,10,20,5,5,5,5,5,5,5,5,5,10,5,5,20,5,20,5]\n",
    "lemonadeChange(bills)"
   ]
  },
  {
   "cell_type": "code",
   "execution_count": null,
   "metadata": {},
   "outputs": [],
   "source": [
    "# 599. Minimum Index Sum of Two Lists\n",
    "\n",
    "# arr1=[\"Shogun\",\"Tapioca Express\",\"Burger King\",\"KFC\"]\n",
    "# arr2=[\"KFC\",\"Burger King\",\"Tapioca Express\",\"Shogun\"]\n",
    "# arr1=[\"Shogun\",\"Tapioca Express\",\"Burger King\",\"KFC\"]\n",
    "# arr2=[\"Piatti\",\"The Grill at Torrey Pines\",\"Hungry Hunter Steakhouse\",\"Shogun\"]\n",
    "# arr1=[\"Shogun\",\"Tapioca Express\",\"Burger King\",\"KFC\"]\n",
    "# arr2=[\"KFC\",\"Shogun\",\"Burger King\"]\n",
    "# arr1=[\"vacag\",\"KFC\"]\n",
    "# arr2=[\"fvo\",\"xrljq\",\"jrl\",\"KFC\"]\n",
    "arr1=[\"Shogun\",\"Tapioca Express\",\"Burger King\",\"KFC\"]\n",
    "arr2=[\"KNN\",\"KFC\",\"Burger King\",\"Tapioca Express\",\"Shogun\"]\n",
    "def findRestaurant(arr1,arr2):\n",
    "    common_interest = set(arr1)&set(arr2)\n",
    "    print(common_interest)\n",
    "\n",
    "    d=dict()\n",
    "\n",
    "    for i,n in enumerate(arr1):\n",
    "        if n in common_interest:\n",
    "            d[n]=i+1\n",
    "\n",
    "    for i,n in enumerate(arr2[::-1]):\n",
    "        if n in common_interest:\n",
    "            d[n]-=i+1\n",
    "    print(d)\n",
    "    m=min(d.values())\n",
    "    return [k for k,v in d.items() if v==m]\n",
    "findRestaurant(arr1,arr2)"
   ]
  },
  {
   "cell_type": "code",
   "execution_count": null,
   "metadata": {},
   "outputs": [],
   "source": [
    "# 121. Best Time to Buy and Sell Stock\n",
    "prices=[7,1,5,3,6,4]\n",
    "# prices=[7,6,5,4,3]\n",
    "def maxProfit(prices):\n",
    "    if len(prices)==1:return 0\n",
    "    i=0\n",
    "    buy=True\n",
    "    sell=False\n",
    "    ttl=0\n",
    "    while i < len(prices):\n",
    "        if buy:\n",
    "            mn=min(prices[i:])\n",
    "            print(mn,prices[i])\n",
    "            if prices[i]== mn and i != len(prices)-1:\n",
    "                ttl -= prices[i]\n",
    "                buy=not(buy)\n",
    "                sell=not(sell)\n",
    "        elif sell:\n",
    "            mx=max(prices[i:])\n",
    "            if prices[i]==mx:\n",
    "                ttl += prices[i]\n",
    "                sell=not(sell)\n",
    "                buy=not(buy)\n",
    "        i+=1\n",
    "    return ttl\n",
    "\n",
    "def maxProfit(prices):\n",
    "    mx_profit=0\n",
    "    bought = prices[0]\n",
    "    for i in prices[1:]:\n",
    "        if i-bought > mx_profit:mx_profit = i-bought\n",
    "        if bought > i:bought=i\n",
    "    return mx_profit\n",
    "\n",
    "maxProfit(prices)"
   ]
  },
  {
   "cell_type": "code",
   "execution_count": 1,
   "metadata": {},
   "outputs": [
    {
     "output_type": "stream",
     "name": "stdout",
     "text": [
      "[1, 0, 0, 2, 3, 0, 0, 4, 5, 0, 0]\n"
     ]
    }
   ],
   "source": [
    "# 1089. Duplicate Zeros\n",
    "\n",
    "arr=[1,0,2,3,0,4,5,0]\n",
    "\n",
    "def duplicateZeros(arr):\n",
    "    i=0\n",
    "    while i < len(arr):\n",
    "        if arr[i]==0:\n",
    "            arr.insert(i,arr[i])\n",
    "            arr.pop()\n",
    "            i+=1\n",
    "        i+=1\n",
    "    return arr\n",
    "duplicateZeros(arr)"
   ]
  },
  {
   "cell_type": "code",
   "execution_count": 2,
   "metadata": {},
   "outputs": [
    {
     "output_type": "stream",
     "name": "stdout",
     "text": [
      "A A\nB B\nC C\n"
     ]
    }
   ],
   "source": [
    "# 1071. Greatest Common Divisor of Strings\n",
    "\n",
    "str1 = \"ABCABC\"\n",
    "str2 = \"ABC\"\n",
    "\n",
    "def greatest_common_divisor_of_strings(str1,str2):\n",
    "    for a,b in zip(str1,str2):\n",
    "        print(a,b)\n",
    "greatest_common_divisor_of_strings(str1,str2)"
   ]
  }
 ]
}